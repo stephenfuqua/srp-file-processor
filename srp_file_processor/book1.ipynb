{
 "cells": [
  {
   "cell_type": "code",
   "execution_count": null,
   "metadata": {},
   "outputs": [],
   "source": [
    "import os\n",
    "from IPython.display import display, Markdown\n",
    "import pandas as pd\n",
    "\n",
    "from file_reader import read_activities\n",
    "\n",
    "in_progress_file = \"in-progress-2021-07-02.xlsx\"\n",
    "completed_file = \"completed-2021-07-02.xlsx\"\n",
    "\n",
    "path = os.path.join(\"..\", \"..\", \"Data\")\n",
    "\n",
    "in_progress = read_activities(os.path.join(path, in_progress_file))\n",
    "completed = read_activities(os.path.join(path, completed_file))\n",
    "\n",
    "cutoff_date = \"2020-05-31\"\n",
    "cutoff_text = \"June 1, 2020\""
   ]
  },
  {
   "cell_type": "code",
   "execution_count": null,
   "metadata": {},
   "outputs": [],
   "source": [
    "pd.set_option('display.max_rows', 500)"
   ]
  },
  {
   "cell_type": "code",
   "execution_count": null,
   "metadata": {},
   "outputs": [],
   "source": [
    "book_1_in_progress = in_progress[in_progress[\"sc_1_reflections_on_the_life_of_the_spirit\"] == \"In Progress\"].copy()\n",
    "\n",
    "book_1_in_progress[\"start_date_2\"] = pd.to_datetime(book_1_in_progress[\"start_date\"])\n",
    "\n",
    "book_1_in_progress = book_1_in_progress[book_1_in_progress[\"start_date_2\"] > cutoff_date]\n",
    "book_1_in_progress[\"In Progress\"] = 1\n",
    "\n",
    "b1_j1_started = book_1_in_progress[[\"grouping\", \"cluster_name\", \"In Progress\"]]"
   ]
  },
  {
   "cell_type": "code",
   "execution_count": null,
   "metadata": {},
   "outputs": [],
   "source": [
    "book_2_in_progress = in_progress[in_progress[\"sc_2_arising_to_serve\"] == \"In Progress\"].copy()\n",
    "\n",
    "book_2_in_progress[\"start_date_2\"] = pd.to_datetime(book_2_in_progress[\"start_date\"])\n",
    "\n",
    "book_2_in_progress = book_2_in_progress[book_2_in_progress[\"start_date_2\"] > cutoff_date]\n",
    "book_2_in_progress[\"In Progress\"] = 1\n",
    "\n",
    "b2_j1_started = book_2_in_progress[[\"grouping\", \"cluster_name\", \"In Progress\"]]"
   ]
  },
  {
   "cell_type": "code",
   "execution_count": null,
   "metadata": {},
   "outputs": [],
   "source": [
    "book_1_completed = completed[completed[\"sc_1_reflections_on_the_life_of_the_spirit\"] != 0].copy()\n",
    "\n",
    "book_1_completed[\"start_date_2\"] = pd.to_datetime(book_1_completed[\"start_date\"])\n",
    "book_1_completed = book_1_completed[book_1_completed[\"start_date_2\"] > cutoff_date]\n",
    "book_1_completed[\"Completed\"] = 1\n",
    "\n",
    "b1_j1_completed = book_1_completed[[\"grouping\", \"cluster_name\", \"Completed\"]]"
   ]
  },
  {
   "cell_type": "code",
   "execution_count": null,
   "metadata": {},
   "outputs": [],
   "source": [
    "book_2_completed = completed[completed[\"sc_2_arising_to_serve\"] != 0].copy()\n",
    "\n",
    "book_2_completed[\"start_date_2\"] = pd.to_datetime(book_2_completed[\"start_date\"])\n",
    "book_2_completed = book_2_completed[book_2_completed[\"start_date_2\"] > cutoff_date]\n",
    "book_2_completed[\"Completed\"] = 1\n",
    "\n",
    "b2_j1_completed = book_2_completed[[\"grouping\", \"cluster_name\", \"Completed\"]]"
   ]
  },
  {
   "cell_type": "code",
   "execution_count": null,
   "metadata": {},
   "outputs": [],
   "source": [
    "combined_1 = pd.concat([b1_j1_started, b1_j1_completed])\n",
    "combined_1.fillna(0, inplace=True)\n",
    "combined_1 = combined_1.astype({\"In Progress\": \"int\", \"Completed\": \"int\"})\n",
    "\n",
    "combined_2 = pd.concat([b2_j1_started, b2_j1_completed])\n",
    "combined_2.fillna(0, inplace=True)\n",
    "combined_2 = combined_2.astype({\"In Progress\": \"int\", \"Completed\": \"int\"})"
   ]
  },
  {
   "cell_type": "code",
   "execution_count": null,
   "metadata": {},
   "outputs": [],
   "source": [
    "display(Markdown(f\"# Book 1 Since {cutoff_text}\"))\n",
    "display(Markdown(\"## Summary Statistics\"))\n",
    "display(Markdown(\"### Total Count in Region\"))\n",
    "\n",
    "region = combined_1.sum()\n",
    "display(Markdown(f\"In Progress: {region['In Progress']}, Completed: {region['Completed']}\"))\n",
    "\n",
    "display(Markdown(\"### Count by Grouping\"))\n",
    "grouped = combined_1[[\"grouping\", \"In Progress\", \"Completed\"]].groupby(by=[\"grouping\"])\n",
    "display(grouped.sum())\n",
    "\n",
    "display(Markdown(\"### Count by Cluster\"))\n",
    "grouped = combined_1.groupby(by=[\"grouping\", \"cluster_name\"])\n",
    "display(grouped.sum())"
   ]
  },
  {
   "cell_type": "code",
   "execution_count": null,
   "metadata": {},
   "outputs": [],
   "source": [
    "book_1 = pd.concat([book_1_completed, book_1_in_progress])\n",
    "\n",
    "book_1_by_tutor = book_1.assign(\n",
    "    facilitator=book_1.facilitators.str.split(\"; \")\n",
    ").explode(\"facilitator\")\n",
    "\n",
    "# There is a least one row with NaN for tutor. Let's just ignore it for now.\n",
    "\n",
    "book_1_by_tutor[\"wider_community\"] = (\n",
    "    book_1_by_tutor[\"total_participants\"].astype(\"int\") - book_1_by_tutor[\"bahai_participants\"].astype(\"int\")\n",
    ")\n",
    "\n",
    "b1_stats = book_1_by_tutor.groupby(\"facilitator\").agg(\n",
    "    num_study_circles=pd.NamedAgg(column=\"name\", aggfunc=\"count\"),\n",
    "    total_wider_community=pd.NamedAgg(column=\"wider_community\", aggfunc=\"sum\"),\n",
    "    total_participants=pd.NamedAgg(column=\"total_participants\", aggfunc=\"sum\")\n",
    ")\n",
    "\n",
    "b1_stats.rename_axis(\"Tutor\", inplace=True)\n",
    "\n",
    "num_circles = \"# of Study Circles\"\n",
    "total_wider = \"# Participants from Wider Community\"\n",
    "total_part = \"# Participants\"\n",
    "b1_stats.rename(\n",
    "    {\n",
    "        \"num_study_circles\": num_circles,\n",
    "        \"total_wider_community\": total_wider,\n",
    "        \"total_participants\": total_part\n",
    "    }, axis=1, inplace=True\n",
    ")\n",
    "\n",
    "display(Markdown(\"## Experience Tutoring Book 1\"))\n",
    "display(Markdown(\"These data combine completed and active study circles\"))\n",
    "display(Markdown(\"### Have tutored > 1 Study Circle\"))\n",
    "display(b1_stats[b1_stats[num_circles] > 1].sort_values(by=num_circles, ascending=False))\n",
    "\n",
    "display(Markdown(\"### Have Tutored > 1 From Wider Community\"))\n",
    "display(b1_stats[b1_stats[total_wider] > 1].sort_values(by=total_wider, ascending=False))"
   ]
  },
  {
   "cell_type": "code",
   "execution_count": null,
   "metadata": {},
   "outputs": [],
   "source": [
    "display(Markdown(f\"# Book 2 Since {cutoff_text}\"))\n",
    "display(Markdown(\"## Summary Statistics\"))\n",
    "display(Markdown(\"### Total Count in Region\"))\n",
    "\n",
    "region = combined_2.sum()\n",
    "display(Markdown(f\"In Progress: {region['In Progress']}, Completed: {region['Completed']}\"))\n",
    "\n",
    "display(Markdown(\"### Count by Grouping\"))\n",
    "grouped = combined_2[[\"grouping\", \"In Progress\", \"Completed\"]].groupby(by=[\"grouping\"])\n",
    "display(grouped.sum())\n",
    "\n",
    "display(Markdown(\"### Count by Cluster\"))\n",
    "grouped = combined_2.groupby(by=[\"grouping\", \"cluster_name\"])\n",
    "display(grouped.sum())"
   ]
  },
  {
   "cell_type": "code",
   "execution_count": null,
   "metadata": {},
   "outputs": [],
   "source": [
    "book_2 = pd.concat([book_2_completed, book_2_in_progress])\n",
    "\n",
    "book_2_by_tutor = book_2.assign(\n",
    "    facilitator=book_2.facilitators.str.split(\"; \")\n",
    ").explode(\"facilitator\")\n",
    "\n",
    "# There is a least one row with NaN for tutor. Let's just ignore it for now.\n",
    "\n",
    "book_2_by_tutor[\"wider_community\"] = (\n",
    "    book_2_by_tutor[\"total_participants\"].astype(\"int\") - book_2_by_tutor[\"bahai_participants\"].astype(\"int\")\n",
    ")\n",
    "\n",
    "b2_stats = book_2_by_tutor.groupby(\"facilitator\").agg(\n",
    "    num_study_circles=pd.NamedAgg(column=\"name\", aggfunc=\"count\"),\n",
    "    total_wider_community=pd.NamedAgg(column=\"wider_community\", aggfunc=\"sum\"),\n",
    "    total_participants=pd.NamedAgg(column=\"total_participants\", aggfunc=\"sum\")\n",
    ")\n",
    "\n",
    "b2_stats.rename_axis(\"Tutor\", inplace=True)\n",
    "\n",
    "b2_stats.rename(\n",
    "    {\n",
    "        \"num_study_circles\": num_circles,\n",
    "        \"total_wider_community\": total_wider,\n",
    "        \"total_participants\": total_part\n",
    "    }, axis=1, inplace=True\n",
    ")\n",
    "\n",
    "display(Markdown(\"## Experience Tutoring Book 2\"))\n",
    "display(Markdown(\"These data combine completed and active study circles\"))\n",
    "display(Markdown(\"### Have tutored > 1 Study Circle\"))\n",
    "display(b2_stats[b2_stats[num_circles] > 1].sort_values(by=num_circles, ascending=False))\n",
    "\n",
    "display(Markdown(\"### Have Tutored > 1 From Wider Community\"))\n",
    "display(b2_stats[b2_stats[total_wider] > 1].sort_values(by=total_wider, ascending=False))"
   ]
  },
  {
   "cell_type": "code",
   "execution_count": null,
   "metadata": {},
   "outputs": [],
   "source": []
  }
 ],
 "metadata": {
  "kernelspec": {
   "display_name": "Python 3.9.4 64-bit ('.venv': poetry)",
   "language": "python",
   "name": "python394jvsc74a57bd0622bf7ac9c4812f0684887e42ab563b9e9433c8b15109955124a0447bb2a27b9"
  },
  "language_info": {
   "codemirror_mode": {
    "name": "ipython",
    "version": 3
   },
   "file_extension": ".py",
   "mimetype": "text/x-python",
   "name": "python",
   "nbconvert_exporter": "python",
   "pygments_lexer": "ipython3",
   "version": "3.9.4"
  }
 },
 "nbformat": 4,
 "nbformat_minor": 2
}