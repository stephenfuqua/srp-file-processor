{
 "metadata": {
  "language_info": {
   "codemirror_mode": {
    "name": "ipython",
    "version": 3
   },
   "file_extension": ".py",
   "mimetype": "text/x-python",
   "name": "python",
   "nbconvert_exporter": "python",
   "pygments_lexer": "ipython3",
   "version": "3.8.3-final"
  },
  "orig_nbformat": 2,
  "kernelspec": {
   "name": "python3",
   "display_name": "Python 3",
   "language": "python"
  }
 },
 "nbformat": 4,
 "nbformat_minor": 2,
 "cells": [
  {
   "cell_type": "code",
   "execution_count": 4,
   "metadata": {},
   "outputs": [],
   "source": [
    "import os\n",
    "from IPython.display import display, Markdown\n",
    "import pandas as pd\n",
    "\n",
    "from file_reader import read_activities\n",
    "\n",
    "in_progress_file = \"in-progress-2020-12-12.xlsx\"\n",
    "completed_file = \"completed-2020-12-12.xlsx\"\n",
    "\n",
    "path = os.path.join(\"..\", \"..\", \"Data\")\n",
    "\n",
    "in_progress = read_activities(os.path.join(path, in_progress_file))\n",
    "completed = read_activities(os.path.join(path, completed_file))"
   ]
  },
  {
   "cell_type": "code",
   "execution_count": 41,
   "metadata": {},
   "outputs": [],
   "source": [
    "book_1_in_progress = in_progress[in_progress[\"sc_1_reflections_on_the_life_of_the_spirit\"] == \"In Progress\"]\n",
    "\n",
    "book_1_in_progress[\"start_date_2\"] = pd.to_datetime(book_1_in_progress[\"start_date\"])\n",
    "\n",
    "book_1_in_progress = book_1_in_progress[book_1_in_progress[\"start_date_2\"] > \"2020-05-31\"]\n",
    "book_1_in_progress[\"Started\"] = 1\n",
    "\n",
    "b1_j1_started = book_1_in_progress[[\"grouping\", \"cluster_name\", \"Started\"]]"
   ]
  },
  {
   "cell_type": "code",
   "execution_count": 45,
   "metadata": {},
   "outputs": [],
   "source": [
    "book_1_completed = completed[completed[\"sc_1_reflections_on_the_life_of_the_spirit\"] != \"\"]\n",
    "\n",
    "book_1_completed[\"start_date_2\"] = pd.to_datetime(book_1_completed[\"start_date\"])\n",
    "#book_1_completed[\"end_date_2\"] = pd.to_datetime(book_1_completed[\"end_date\"])\n",
    "book_1_completed = book_1_completed[book_1_completed[\"start_date_2\"] > \"2020-05-31\"]\n",
    "book_1_completed[\"Completed\"] = 1\n",
    "\n",
    "b1_j1_completed = book_1_completed[[\"grouping\", \"cluster_name\", \"Completed\"]]"
   ]
  },
  {
   "cell_type": "code",
   "execution_count": 47,
   "metadata": {},
   "outputs": [],
   "source": [
    "combined = pd.concat([b1_j1_started, b1_j1_completed])\n",
    "combined.fillna(0, inplace=True)\n",
    "combined = combined.astype({\"Started\": \"int\", \"Completed\": \"int\"})"
   ]
  },
  {
   "cell_type": "code",
   "execution_count": 48,
   "metadata": {},
   "outputs": [
    {
     "output_type": "display_data",
     "data": {
      "text/plain": "<IPython.core.display.Markdown object>",
      "text/markdown": "# Book 1 Since June 1"
     },
     "metadata": {}
    },
    {
     "output_type": "display_data",
     "data": {
      "text/plain": "<IPython.core.display.Markdown object>",
      "text/markdown": "## Total Count in Region"
     },
     "metadata": {}
    },
    {
     "output_type": "display_data",
     "data": {
      "text/plain": "<IPython.core.display.Markdown object>",
      "text/markdown": "Started: 55, Completed: 20"
     },
     "metadata": {}
    },
    {
     "output_type": "display_data",
     "data": {
      "text/plain": "<IPython.core.display.Markdown object>",
      "text/markdown": "## Count by Grouping"
     },
     "metadata": {}
    },
    {
     "output_type": "display_data",
     "data": {
      "text/plain": "                      Started  Completed\ngrouping                                \nArkansas                    4          0\nArlington Mid-Cities       11          3\nAustin                      5          2\nDallas                     10          5\nHarris                      7          4\nMetrocrest                  5          2\nOklahoma                    3          3\nSan Antonio                10          1",
      "text/html": "<div>\n<style scoped>\n    .dataframe tbody tr th:only-of-type {\n        vertical-align: middle;\n    }\n\n    .dataframe tbody tr th {\n        vertical-align: top;\n    }\n\n    .dataframe thead th {\n        text-align: right;\n    }\n</style>\n<table border=\"1\" class=\"dataframe\">\n  <thead>\n    <tr style=\"text-align: right;\">\n      <th></th>\n      <th>Started</th>\n      <th>Completed</th>\n    </tr>\n    <tr>\n      <th>grouping</th>\n      <th></th>\n      <th></th>\n    </tr>\n  </thead>\n  <tbody>\n    <tr>\n      <th>Arkansas</th>\n      <td>4</td>\n      <td>0</td>\n    </tr>\n    <tr>\n      <th>Arlington Mid-Cities</th>\n      <td>11</td>\n      <td>3</td>\n    </tr>\n    <tr>\n      <th>Austin</th>\n      <td>5</td>\n      <td>2</td>\n    </tr>\n    <tr>\n      <th>Dallas</th>\n      <td>10</td>\n      <td>5</td>\n    </tr>\n    <tr>\n      <th>Harris</th>\n      <td>7</td>\n      <td>4</td>\n    </tr>\n    <tr>\n      <th>Metrocrest</th>\n      <td>5</td>\n      <td>2</td>\n    </tr>\n    <tr>\n      <th>Oklahoma</th>\n      <td>3</td>\n      <td>3</td>\n    </tr>\n    <tr>\n      <th>San Antonio</th>\n      <td>10</td>\n      <td>1</td>\n    </tr>\n  </tbody>\n</table>\n</div>"
     },
     "metadata": {}
    },
    {
     "output_type": "display_data",
     "data": {
      "text/plain": "<IPython.core.display.Markdown object>",
      "text/markdown": "## Count by Cluster"
     },
     "metadata": {}
    },
    {
     "output_type": "display_data",
     "data": {
      "text/plain": "                                                Started  Completed\ngrouping             cluster_name                                 \nArkansas             Hot Springs Area                 1          0\n                     Little Rock Area                 1          0\n                     Springdale Area                  2          0\nArlington Mid-Cities Arlington Mid-Cities             6          1\n                     Fort Worth City                  0          1\n                     North Central                    1          0\n                     Northeast Tarrant County         2          1\n                     Waco Area                        2          0\nAustin               Austin Area                      3          0\n                     Greater Williamson County        1          2\n                     San Angelo Sphere                1          0\nDallas               Amarillo Area                    1          0\n                     Dallas City                      2          3\n                     Ellis-Navarro-Kaufman            1          0\n                     Northeast Dallas County          1          0\n                     Rockwall County                  2          2\n                     Tyler Area                       3          0\nHarris               Harris County Central            3          1\n                     Harris County East               1          0\n                     Harris County West               2          2\n                     Montgomery County                1          1\nMetrocrest           East Collin                      1          0\n                     Plano City                       1          2\n                     West Collin                      3          0\nOklahoma             Enid                             1          1\n                     Miami                            1          0\n                     Tulsa                            1          2\nSan Antonio          Corpus Christi Area              2          0\n                     Rio Grande Valley                4          1\n                     San Antonio Area                 4          0",
      "text/html": "<div>\n<style scoped>\n    .dataframe tbody tr th:only-of-type {\n        vertical-align: middle;\n    }\n\n    .dataframe tbody tr th {\n        vertical-align: top;\n    }\n\n    .dataframe thead th {\n        text-align: right;\n    }\n</style>\n<table border=\"1\" class=\"dataframe\">\n  <thead>\n    <tr style=\"text-align: right;\">\n      <th></th>\n      <th></th>\n      <th>Started</th>\n      <th>Completed</th>\n    </tr>\n    <tr>\n      <th>grouping</th>\n      <th>cluster_name</th>\n      <th></th>\n      <th></th>\n    </tr>\n  </thead>\n  <tbody>\n    <tr>\n      <th rowspan=\"3\" valign=\"top\">Arkansas</th>\n      <th>Hot Springs Area</th>\n      <td>1</td>\n      <td>0</td>\n    </tr>\n    <tr>\n      <th>Little Rock Area</th>\n      <td>1</td>\n      <td>0</td>\n    </tr>\n    <tr>\n      <th>Springdale Area</th>\n      <td>2</td>\n      <td>0</td>\n    </tr>\n    <tr>\n      <th rowspan=\"5\" valign=\"top\">Arlington Mid-Cities</th>\n      <th>Arlington Mid-Cities</th>\n      <td>6</td>\n      <td>1</td>\n    </tr>\n    <tr>\n      <th>Fort Worth City</th>\n      <td>0</td>\n      <td>1</td>\n    </tr>\n    <tr>\n      <th>North Central</th>\n      <td>1</td>\n      <td>0</td>\n    </tr>\n    <tr>\n      <th>Northeast Tarrant County</th>\n      <td>2</td>\n      <td>1</td>\n    </tr>\n    <tr>\n      <th>Waco Area</th>\n      <td>2</td>\n      <td>0</td>\n    </tr>\n    <tr>\n      <th rowspan=\"3\" valign=\"top\">Austin</th>\n      <th>Austin Area</th>\n      <td>3</td>\n      <td>0</td>\n    </tr>\n    <tr>\n      <th>Greater Williamson County</th>\n      <td>1</td>\n      <td>2</td>\n    </tr>\n    <tr>\n      <th>San Angelo Sphere</th>\n      <td>1</td>\n      <td>0</td>\n    </tr>\n    <tr>\n      <th rowspan=\"6\" valign=\"top\">Dallas</th>\n      <th>Amarillo Area</th>\n      <td>1</td>\n      <td>0</td>\n    </tr>\n    <tr>\n      <th>Dallas City</th>\n      <td>2</td>\n      <td>3</td>\n    </tr>\n    <tr>\n      <th>Ellis-Navarro-Kaufman</th>\n      <td>1</td>\n      <td>0</td>\n    </tr>\n    <tr>\n      <th>Northeast Dallas County</th>\n      <td>1</td>\n      <td>0</td>\n    </tr>\n    <tr>\n      <th>Rockwall County</th>\n      <td>2</td>\n      <td>2</td>\n    </tr>\n    <tr>\n      <th>Tyler Area</th>\n      <td>3</td>\n      <td>0</td>\n    </tr>\n    <tr>\n      <th rowspan=\"4\" valign=\"top\">Harris</th>\n      <th>Harris County Central</th>\n      <td>3</td>\n      <td>1</td>\n    </tr>\n    <tr>\n      <th>Harris County East</th>\n      <td>1</td>\n      <td>0</td>\n    </tr>\n    <tr>\n      <th>Harris County West</th>\n      <td>2</td>\n      <td>2</td>\n    </tr>\n    <tr>\n      <th>Montgomery County</th>\n      <td>1</td>\n      <td>1</td>\n    </tr>\n    <tr>\n      <th rowspan=\"3\" valign=\"top\">Metrocrest</th>\n      <th>East Collin</th>\n      <td>1</td>\n      <td>0</td>\n    </tr>\n    <tr>\n      <th>Plano City</th>\n      <td>1</td>\n      <td>2</td>\n    </tr>\n    <tr>\n      <th>West Collin</th>\n      <td>3</td>\n      <td>0</td>\n    </tr>\n    <tr>\n      <th rowspan=\"3\" valign=\"top\">Oklahoma</th>\n      <th>Enid</th>\n      <td>1</td>\n      <td>1</td>\n    </tr>\n    <tr>\n      <th>Miami</th>\n      <td>1</td>\n      <td>0</td>\n    </tr>\n    <tr>\n      <th>Tulsa</th>\n      <td>1</td>\n      <td>2</td>\n    </tr>\n    <tr>\n      <th rowspan=\"3\" valign=\"top\">San Antonio</th>\n      <th>Corpus Christi Area</th>\n      <td>2</td>\n      <td>0</td>\n    </tr>\n    <tr>\n      <th>Rio Grande Valley</th>\n      <td>4</td>\n      <td>1</td>\n    </tr>\n    <tr>\n      <th>San Antonio Area</th>\n      <td>4</td>\n      <td>0</td>\n    </tr>\n  </tbody>\n</table>\n</div>"
     },
     "metadata": {}
    }
   ],
   "source": [
    "display(Markdown(\"# Book 1 Since June 1\"))\n",
    "display(Markdown(f\"## Total Count in Region\"))\n",
    "\n",
    "region = combined.sum()\n",
    "display(Markdown(f\"Started: {region['Started']}, Completed: {region['Completed']}\"))\n",
    "\n",
    "display(Markdown(\"## Count by Grouping\"))\n",
    "grouped = combined[[\"grouping\", \"Started\", \"Completed\"]].groupby(by=[\"grouping\"])\n",
    "display(grouped.sum())\n",
    "\n",
    "display(Markdown(\"## Count by Cluster\"))\n",
    "grouped = combined.groupby(by=[\"grouping\", \"cluster_name\"])\n",
    "display(grouped.sum())"
   ]
  },
  {
   "cell_type": "code",
   "execution_count": null,
   "metadata": {},
   "outputs": [],
   "source": []
  }
 ]
}