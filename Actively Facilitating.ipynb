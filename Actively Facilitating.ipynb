{
 "cells": [
  {
   "cell_type": "markdown",
   "metadata": {},
   "source": [
    "For processing the \"actively facilitating\" export from SRP, turning it into something more easily used in Excel / Sheets."
   ]
  },
  {
   "cell_type": "code",
   "execution_count": null,
   "metadata": {},
   "outputs": [],
   "source": [
    "input_file = \"C:\\source\\SRP\\Data\\Actively Facilitating 2021-05-19.csv\"\n",
    "output_file = \"C:\\source\\SRP\\Data\\actively-facilitating-2021-05-19.csv\"\n",
    "\n",
    "import pandas as pd\n",
    "\n",
    "df = pd.read_csv(input_file, low_memory=False)"
   ]
  },
  {
   "cell_type": "code",
   "execution_count": null,
   "metadata": {},
   "outputs": [],
   "source": [
    "df.info"
   ]
  },
  {
   "cell_type": "code",
   "execution_count": null,
   "metadata": {},
   "outputs": [],
   "source": [
    "common = [\n",
    "    \"Cluster\",\n",
    "    \"Locality\",\n",
    "    \"First Name\",\n",
    "    \"Family Name\",\n",
    "    \"Telephone\",\n",
    "    \"Email\"\n",
    "]\n",
    "\n",
    "a = []\n",
    "#activities = pd.concat(a)"
   ]
  },
  {
   "cell_type": "code",
   "execution_count": null,
   "metadata": {},
   "outputs": [],
   "source": [
    "g1 = df[df[\"G1\"] == \"Yes\"][[*common]]\n",
    "g1[\"Activity\"] = \"Children's Classes\"\n",
    "g1[\"Level\"] = \"Grade 1\"\n",
    "\n",
    "a.append(g1)\n",
    "\n",
    "g2 = df[df[\"G2\"] == \"Yes\"][[*common]]\n",
    "g2[\"Activity\"] = \"Children's Classes\"\n",
    "g2[\"Level\"] = \"Grade 2\"\n",
    "\n",
    "a.append(g2)\n",
    "\n",
    "g3 = df[df[\"G3\"] == \"Yes\"][[*common]]\n",
    "g3[\"Activity\"] = \"Children's Classes\"\n",
    "g3[\"Level\"] = \"Grade 3\"\n",
    "\n",
    "a.append(g3)\n",
    "\n",
    "g4 = df[df[\"G4\"] == \"Yes\"][[*common]]\n",
    "g4[\"Activity\"] = \"Children's Classes\"\n",
    "g4[\"Level\"] = \"Grade 4\"\n",
    "\n",
    "a.append(g4)"
   ]
  },
  {
   "cell_type": "code",
   "execution_count": null,
   "metadata": {},
   "outputs": [],
   "source": [
    "jy = [\"BC\",\"WJ\",\"HO\",\"GH\",\"WS\",\"LE\",\"TN\",\"OI\",\"HT\",\"DP\",\"SF\",\"PH\"]\n",
    "\n",
    "for text in jy:\n",
    "    jyg = df[df[text] == \"Yes\"][[*common]]\n",
    "    jyg[\"Activity\"] = \"Junior Youth Group\"\n",
    "    jyg[\"Level\"] = text\n",
    "    \n",
    "    a.append(jyg)"
   ]
  },
  {
   "cell_type": "code",
   "execution_count": null,
   "metadata": {},
   "outputs": [],
   "source": [
    "rb = [\"Book 1\",\"Book 2\",\"Book 3 (G1)\",\"Book 3 (G2)\",\"Book 3 (G3)\",\"Book 3(G4)\",\"Book 3(G5)\",\"Book 4\",\n",
    "      \"Book 5\",\"Book 5BR1\",\"Book 5BR2\",\"Book 5BR3\",\"Book 6\",\"Book 7\",\"Book 7BR1\",\"Book 7BR2\",\"Book 8(U1)\",\n",
    "      \"Book 8(U2)\",\"Book 8(U3)\",\"Book 9(U1)\",\"Book 9(U2)\",\"Book 9(U3)\",\"Book 10(U1)\",\"Book 10(U2)\",\n",
    "      \"Book 10(U3)\",\"Book 11(U1)\",\"Book 11(U2)\",\"Book 12(U1)\",\"Book 13(U1)\",\"Book 13(U2)\",\"Book 14(U1)\"]\n",
    "\n",
    "for book in rb:\n",
    "    sc = df[df[book] == \"Yes\"][[*common]]\n",
    "    sc[\"Activity\"] = \"Study Circle\"\n",
    "    sc[\"Level\"] = book\n",
    "    \n",
    "    a.append(sc)"
   ]
  },
  {
   "cell_type": "code",
   "execution_count": null,
   "metadata": {},
   "outputs": [],
   "source": [
    "activities = pd.concat(a)\n",
    "\n",
    "\n",
    "output_file = \"C:/source/SRP/Data/actively-facilitating-2021-05-19.csv\"\n",
    "activities.to_csv(output_file, index=False)"
   ]
  }
 ],
 "metadata": {
  "kernelspec": {
   "display_name": "Python 3",
   "language": "python",
   "name": "python3"
  },
  "language_info": {
   "codemirror_mode": {
    "name": "ipython",
    "version": 3
   },
   "file_extension": ".py",
   "mimetype": "text/x-python",
   "name": "python",
   "nbconvert_exporter": "python",
   "pygments_lexer": "ipython3",
   "version": "3.9.4"
  }
 },
 "nbformat": 4,
 "nbformat_minor": 4
}